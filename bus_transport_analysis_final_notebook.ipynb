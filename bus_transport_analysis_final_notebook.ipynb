{
 "cells": [
  {
   "cell_type": "code",
   "execution_count": 1,
   "id": "3f6a66e2",
   "metadata": {},
   "outputs": [],
   "source": [
    "import pandas as pd\n",
    "import numpy as np\n",
    "import matplotlib.pyplot as plt\n",
    "import datetime\n",
    "from datetime import datetime"
   ]
  },
  {
   "cell_type": "code",
   "execution_count": 2,
   "id": "91ccf3f3",
   "metadata": {},
   "outputs": [
    {
     "name": "stderr",
     "output_type": "stream",
     "text": [
      "C:\\Users\\bhole\\AppData\\Local\\Temp\\ipykernel_8780\\2364992990.py:1: DtypeWarning: Columns (1,9,11) have mixed types. Specify dtype option on import or set low_memory=False.\n",
      "  df=pd.read_csv(\"Weekly_Boarding1.csv\")\n"
     ]
    }
   ],
   "source": [
    "df=pd.read_csv(\"Weekly_Boarding1.csv\")"
   ]
  },
  {
   "cell_type": "code",
   "execution_count": 3,
   "id": "936afe6e",
   "metadata": {},
   "outputs": [
    {
     "data": {
      "text/plain": [
       "(10857234, 13)"
      ]
     },
     "execution_count": 3,
     "metadata": {},
     "output_type": "execute_result"
    }
   ],
   "source": [
    "df.shape"
   ]
  },
  {
   "cell_type": "code",
   "execution_count": 4,
   "id": "a783e1a0",
   "metadata": {},
   "outputs": [
    {
     "data": {
      "text/plain": [
       "Index(['TripID', 'RouteID', 'StopID', 'StopName', 'WeekBeginning',\n",
       "       'NumberOfBoardings', 'formatted_address', 'latitude', 'longitude',\n",
       "       'postcode', 'type', 'route_desc', 'dist_from_centre'],\n",
       "      dtype='object')"
      ]
     },
     "execution_count": 4,
     "metadata": {},
     "output_type": "execute_result"
    }
   ],
   "source": [
    "df.columns"
   ]
  },
  {
   "cell_type": "code",
   "execution_count": 5,
   "id": "a32f2612",
   "metadata": {},
   "outputs": [
    {
     "data": {
      "text/html": [
       "<div>\n",
       "<style scoped>\n",
       "    .dataframe tbody tr th:only-of-type {\n",
       "        vertical-align: middle;\n",
       "    }\n",
       "\n",
       "    .dataframe tbody tr th {\n",
       "        vertical-align: top;\n",
       "    }\n",
       "\n",
       "    .dataframe thead th {\n",
       "        text-align: right;\n",
       "    }\n",
       "</style>\n",
       "<table border=\"1\" class=\"dataframe\">\n",
       "  <thead>\n",
       "    <tr style=\"text-align: right;\">\n",
       "      <th></th>\n",
       "      <th>TripID</th>\n",
       "      <th>RouteID</th>\n",
       "      <th>StopID</th>\n",
       "      <th>StopName</th>\n",
       "      <th>WeekBeginning</th>\n",
       "      <th>NumberOfBoardings</th>\n",
       "      <th>formatted_address</th>\n",
       "      <th>latitude</th>\n",
       "      <th>longitude</th>\n",
       "      <th>postcode</th>\n",
       "      <th>type</th>\n",
       "      <th>route_desc</th>\n",
       "      <th>dist_from_centre</th>\n",
       "    </tr>\n",
       "  </thead>\n",
       "  <tbody>\n",
       "    <tr>\n",
       "      <th>0</th>\n",
       "      <td>23631</td>\n",
       "      <td>100</td>\n",
       "      <td>14156</td>\n",
       "      <td>181 Cross Rd</td>\n",
       "      <td>2013-06-30</td>\n",
       "      <td>1</td>\n",
       "      <td>181 Cross Rd, Westbourne Park SA 5041, Australia</td>\n",
       "      <td>-34.966656</td>\n",
       "      <td>138.592148</td>\n",
       "      <td>5041</td>\n",
       "      <td>street_address</td>\n",
       "      <td>via Woodville Road, Holbrooks Road, Marion Roa...</td>\n",
       "      <td>5.180961</td>\n",
       "    </tr>\n",
       "    <tr>\n",
       "      <th>1</th>\n",
       "      <td>23631</td>\n",
       "      <td>100</td>\n",
       "      <td>14144</td>\n",
       "      <td>177 Cross Rd</td>\n",
       "      <td>2013-06-30</td>\n",
       "      <td>1</td>\n",
       "      <td>177 Cross Rd, Westbourne Park SA 5041, Australia</td>\n",
       "      <td>-34.966607</td>\n",
       "      <td>138.592301</td>\n",
       "      <td>5041</td>\n",
       "      <td>street_address</td>\n",
       "      <td>via Woodville Road, Holbrooks Road, Marion Roa...</td>\n",
       "      <td>5.172525</td>\n",
       "    </tr>\n",
       "    <tr>\n",
       "      <th>2</th>\n",
       "      <td>23632</td>\n",
       "      <td>100</td>\n",
       "      <td>14132</td>\n",
       "      <td>175 Cross Rd</td>\n",
       "      <td>2013-06-30</td>\n",
       "      <td>1</td>\n",
       "      <td>175 Cross Rd, Westbourne Park SA 5041, Australia</td>\n",
       "      <td>-34.966758</td>\n",
       "      <td>138.592715</td>\n",
       "      <td>5041</td>\n",
       "      <td>street_address</td>\n",
       "      <td>via Woodville Road, Holbrooks Road, Marion Roa...</td>\n",
       "      <td>5.180709</td>\n",
       "    </tr>\n",
       "    <tr>\n",
       "      <th>3</th>\n",
       "      <td>23633</td>\n",
       "      <td>100</td>\n",
       "      <td>12266</td>\n",
       "      <td>Zone A Arndale Interchange</td>\n",
       "      <td>2013-06-30</td>\n",
       "      <td>2</td>\n",
       "      <td>Zone A Arndale Interchange - South side, Kilke...</td>\n",
       "      <td>-34.875160</td>\n",
       "      <td>138.551628</td>\n",
       "      <td>5009</td>\n",
       "      <td>transit_station</td>\n",
       "      <td>via Woodville Road, Holbrooks Road, Marion Roa...</td>\n",
       "      <td>7.057549</td>\n",
       "    </tr>\n",
       "    <tr>\n",
       "      <th>4</th>\n",
       "      <td>23633</td>\n",
       "      <td>100</td>\n",
       "      <td>14147</td>\n",
       "      <td>178 Cross Rd</td>\n",
       "      <td>2013-06-30</td>\n",
       "      <td>1</td>\n",
       "      <td>178 Cross Rd, Malvern SA 5061, Australia</td>\n",
       "      <td>-34.964960</td>\n",
       "      <td>138.611477</td>\n",
       "      <td>5061</td>\n",
       "      <td>street_address</td>\n",
       "      <td>via Woodville Road, Holbrooks Road, Marion Roa...</td>\n",
       "      <td>4.900099</td>\n",
       "    </tr>\n",
       "  </tbody>\n",
       "</table>\n",
       "</div>"
      ],
      "text/plain": [
       "   TripID RouteID  StopID                    StopName WeekBeginning  \\\n",
       "0   23631     100   14156                181 Cross Rd    2013-06-30   \n",
       "1   23631     100   14144                177 Cross Rd    2013-06-30   \n",
       "2   23632     100   14132                175 Cross Rd    2013-06-30   \n",
       "3   23633     100   12266  Zone A Arndale Interchange    2013-06-30   \n",
       "4   23633     100   14147                178 Cross Rd    2013-06-30   \n",
       "\n",
       "   NumberOfBoardings                                  formatted_address  \\\n",
       "0                  1   181 Cross Rd, Westbourne Park SA 5041, Australia   \n",
       "1                  1   177 Cross Rd, Westbourne Park SA 5041, Australia   \n",
       "2                  1   175 Cross Rd, Westbourne Park SA 5041, Australia   \n",
       "3                  2  Zone A Arndale Interchange - South side, Kilke...   \n",
       "4                  1           178 Cross Rd, Malvern SA 5061, Australia   \n",
       "\n",
       "    latitude   longitude postcode             type  \\\n",
       "0 -34.966656  138.592148     5041   street_address   \n",
       "1 -34.966607  138.592301     5041   street_address   \n",
       "2 -34.966758  138.592715     5041   street_address   \n",
       "3 -34.875160  138.551628     5009  transit_station   \n",
       "4 -34.964960  138.611477     5061   street_address   \n",
       "\n",
       "                                          route_desc  dist_from_centre  \n",
       "0  via Woodville Road, Holbrooks Road, Marion Roa...          5.180961  \n",
       "1  via Woodville Road, Holbrooks Road, Marion Roa...          5.172525  \n",
       "2  via Woodville Road, Holbrooks Road, Marion Roa...          5.180709  \n",
       "3  via Woodville Road, Holbrooks Road, Marion Roa...          7.057549  \n",
       "4  via Woodville Road, Holbrooks Road, Marion Roa...          4.900099  "
      ]
     },
     "execution_count": 5,
     "metadata": {},
     "output_type": "execute_result"
    }
   ],
   "source": [
    "df.head()"
   ]
  },
  {
   "cell_type": "code",
   "execution_count": 6,
   "id": "6d3d1187",
   "metadata": {},
   "outputs": [
    {
     "name": "stdout",
     "output_type": "stream",
     "text": [
      "<class 'pandas.core.frame.DataFrame'>\n",
      "RangeIndex: 10857234 entries, 0 to 10857233\n",
      "Data columns (total 13 columns):\n",
      " #   Column             Dtype  \n",
      "---  ------             -----  \n",
      " 0   TripID             int64  \n",
      " 1   RouteID            object \n",
      " 2   StopID             int64  \n",
      " 3   StopName           object \n",
      " 4   WeekBeginning      object \n",
      " 5   NumberOfBoardings  int64  \n",
      " 6   formatted_address  object \n",
      " 7   latitude           float64\n",
      " 8   longitude          float64\n",
      " 9   postcode           object \n",
      " 10  type               object \n",
      " 11  route_desc         object \n",
      " 12  dist_from_centre   float64\n",
      "dtypes: float64(3), int64(3), object(7)\n",
      "memory usage: 1.1+ GB\n"
     ]
    }
   ],
   "source": [
    "df.info()"
   ]
  },
  {
   "cell_type": "code",
   "execution_count": 7,
   "id": "eb438ca7",
   "metadata": {},
   "outputs": [
    {
     "data": {
      "text/plain": [
       "via Flinders University, Goodwood Road, City & Prospect Road. Service operates 7 days.                                                                                                                                              358005\n",
       "via City & O-bahn. Service operates 7 days.                                                                                                                                                                                         331442\n",
       "via Military Road, Henley Beach Road, City, Coorara Avenue & Stradbroke Road. Service operates 7 days.                                                                                                                              326004\n",
       "via Main North Road. Service operates 7 days.                                                                                                                                                                                       230667\n",
       "via Regency Road, Burnside Village, Cross Road, Flinders University, Flinders Medical Centre, Marion Centre Interchange, Glenelg Interchange, Harbour Town, Henley Beach, Queen Elizabeth Hospital & Arndale Centre Interchange.    228373\n",
       "                                                                                                                                                                                                                                     ...  \n",
       "School Service. Via Grange, Tennyson, West Lakes & Semaphore.                                                                                                                                                                           24\n",
       "School Service. Via Marryatville, Norwood, Kensington, Glynde, Paradise, Athelstone & Newton.                                                                                                                                           23\n",
       "School Service. Via Bartles Rd, East Tce & North Tce.                                                                                                                                                                                   23\n",
       "School Service. Via Largs Bay, Taperoo, North Haven, Outer Harbor, Osborne & Largs North.                                                                                                                                               22\n",
       "School Service. Blackwood High School to stop 30 Flagstaff Hill Road, Darlington.                                                                                                                                                       21\n",
       "Name: route_desc, Length: 440, dtype: int64"
      ]
     },
     "execution_count": 7,
     "metadata": {},
     "output_type": "execute_result"
    }
   ],
   "source": [
    "df['route_desc'].value_counts()"
   ]
  },
  {
   "cell_type": "code",
   "execution_count": 8,
   "id": "2c0b00af",
   "metadata": {},
   "outputs": [
    {
     "data": {
      "text/plain": [
       "2 King William Rd                 46398\n",
       "D1 Currie St                      44089\n",
       "I2 North Tce                      43339\n",
       "W3 Currie St                      43265\n",
       "G3 Grenfell St                    36992\n",
       "                                  ...  \n",
       "51 Bains Rd                           1\n",
       "53 O Sullivan Beach Rd                1\n",
       "School Urrbrae College School         1\n",
       "Quix John Rice Ave / Commercia        1\n",
       "27 Rangeview Rd                       1\n",
       "Name: StopName, Length: 4165, dtype: int64"
      ]
     },
     "execution_count": 8,
     "metadata": {},
     "output_type": "execute_result"
    }
   ],
   "source": [
    "df['StopName'].value_counts()"
   ]
  },
  {
   "cell_type": "code",
   "execution_count": 9,
   "id": "9e1f439b",
   "metadata": {},
   "outputs": [
    {
     "data": {
      "text/plain": [
       "2014-03-02    217162\n",
       "2014-05-18    215932\n",
       "2014-05-11    214947\n",
       "2014-06-01    213789\n",
       "2014-05-04    212681\n",
       "2014-03-23    212552\n",
       "2014-03-16    212188\n",
       "2014-02-23    212103\n",
       "2013-09-08    211914\n",
       "2014-04-27    211782\n",
       "2014-05-25    211534\n",
       "2014-03-30    211460\n",
       "2013-09-01    210968\n",
       "2014-04-06    210557\n",
       "2013-08-25    209497\n",
       "2013-11-17    209341\n",
       "2013-11-24    208881\n",
       "2013-10-20    208655\n",
       "2013-12-01    208470\n",
       "2014-06-15    208457\n",
       "2014-06-08    208417\n",
       "2013-09-15    208241\n",
       "2014-02-16    208178\n",
       "2013-10-27    207971\n",
       "2013-09-22    207769\n",
       "2013-12-08    207353\n",
       "2013-10-13    207351\n",
       "2013-08-04    207082\n",
       "2013-11-03    206863\n",
       "2013-11-10    206853\n",
       "2014-06-29    206138\n",
       "2013-07-28    205492\n",
       "2013-08-11    205385\n",
       "2013-08-18    203852\n",
       "2013-07-21    201257\n",
       "2014-06-22    200950\n",
       "2014-02-09    197978\n",
       "2014-01-19    196344\n",
       "2013-10-06    195830\n",
       "2014-03-09    195200\n",
       "2013-12-15    194102\n",
       "2014-02-02    192507\n",
       "2013-09-29    192023\n",
       "2013-07-07    190543\n",
       "2014-04-13    190060\n",
       "2013-07-14    187192\n",
       "2014-01-05    186105\n",
       "2014-04-20    185080\n",
       "2013-06-30    182229\n",
       "2014-01-26    180259\n",
       "2014-01-12    178456\n",
       "2013-12-29    168771\n",
       "2013-12-22    163331\n",
       "2014-07-06    149202\n",
       "Name: WeekBeginning, dtype: int64"
      ]
     },
     "execution_count": 9,
     "metadata": {},
     "output_type": "execute_result"
    }
   ],
   "source": [
    "df['WeekBeginning'].value_counts()"
   ]
  },
  {
   "cell_type": "code",
   "execution_count": 10,
   "id": "dddc88d9",
   "metadata": {},
   "outputs": [
    {
     "data": {
      "text/plain": [
       "street_address        6653561\n",
       "transit_station       1604089\n",
       "premise               1307928\n",
       "route                 1127183\n",
       "political               71201\n",
       "point_of_interest       46607\n",
       "intersection            34142\n",
       "subpremise               5892\n",
       "school                   5248\n",
       "real_estate_agency        525\n",
       "university                470\n",
       "restaurant                303\n",
       "supermarket                57\n",
       "travel_agency              21\n",
       "store                       4\n",
       "post_office                 3\n",
       "Name: type, dtype: int64"
      ]
     },
     "execution_count": 10,
     "metadata": {},
     "output_type": "execute_result"
    }
   ],
   "source": [
    "df['type'].value_counts()"
   ]
  },
  {
   "cell_type": "code",
   "execution_count": 11,
   "id": "cb11410c",
   "metadata": {},
   "outputs": [
    {
     "data": {
      "text/plain": [
       "<AxesSubplot:>"
      ]
     },
     "execution_count": 11,
     "metadata": {},
     "output_type": "execute_result"
    },
    {
     "data": {
      "image/png": "[encoded data removed]",
      "text/plain": [
       "<Figure size 1800x1800 with 6 Axes>"
      ]
     },
     "metadata": {},
     "output_type": "display_data"
    }
   ],
   "source": [
    "fig,axrr=plt.subplots(3,2,figsize=(18,18))\n",
    "\n",
    "df['NumberOfBoardings'].value_counts().sort_index().head(20).plot.bar(ax=axrr[0][0])\n",
    "df['WeekBeginning'].value_counts().plot.area(ax=axrr[0][1])\n",
    "df['RouteID'].value_counts().head(20).plot.bar(ax=axrr[1][0])\n",
    "df['RouteID'].value_counts().tail(20).plot.bar(ax=axrr[1][1])\n",
    "df['type'].value_counts().head(5).plot.bar(ax=axrr[2][0])\n",
    "df['type'].value_counts().tail(10).plot.bar(ax=axrr[2][1])"
   ]
  },
  {
   "cell_type": "code",
   "execution_count": 12,
   "id": "c1634399",
   "metadata": {},
   "outputs": [
    {
     "data": {
      "text/plain": [
       "TripID                     0\n",
       "RouteID                    0\n",
       "StopID                     0\n",
       "StopName                   0\n",
       "WeekBeginning              0\n",
       "NumberOfBoardings          0\n",
       "formatted_address       3506\n",
       "latitude                   0\n",
       "longitude                  0\n",
       "postcode              425081\n",
       "type                       0\n",
       "route_desc           2106618\n",
       "dist_from_centre           0\n",
       "dtype: int64"
      ]
     },
     "execution_count": 12,
     "metadata": {},
     "output_type": "execute_result"
    }
   ],
   "source": [
    "df.isna().sum()"
   ]
  },
  {
   "cell_type": "code",
   "execution_count": 13,
   "id": "96fca780",
   "metadata": {},
   "outputs": [
    {
     "data": {
      "text/plain": [
       "TripID                0.000000\n",
       "RouteID               0.000000\n",
       "StopID                0.000000\n",
       "StopName              0.000000\n",
       "WeekBeginning         0.000000\n",
       "NumberOfBoardings     0.000000\n",
       "formatted_address     0.032292\n",
       "latitude              0.000000\n",
       "longitude             0.000000\n",
       "postcode              3.915187\n",
       "type                  0.000000\n",
       "route_desc           19.402898\n",
       "dist_from_centre      0.000000\n",
       "dtype: float64"
      ]
     },
     "execution_count": 13,
     "metadata": {},
     "output_type": "execute_result"
    }
   ],
   "source": [
    "#checking null values percentage\n",
    "df.isnull().sum()*100/len(df)"
   ]
  },
  {
   "cell_type": "code",
   "execution_count": 14,
   "id": "29204faa",
   "metadata": {},
   "outputs": [
    {
     "data": {
      "text/plain": [
       "0"
      ]
     },
     "execution_count": 14,
     "metadata": {},
     "output_type": "execute_result"
    }
   ],
   "source": [
    "#checking duplicates\n",
    "df.duplicated().sum()"
   ]
  },
  {
   "cell_type": "raw",
   "id": "874e3bfb",
   "metadata": {},
   "source": [
    "external feature add\n",
    "'''Holidays--\n",
    "2013-09-01,Father's Day\n",
    "2013-10-07,Labour day\n",
    "2013-12-25,Christmas day\n",
    "2013-12-26,Proclamation Day\n",
    "2014-01-01,New Year\n",
    "2014-01-27,Australia Day\n",
    "2014-03-10,March Public Holiday\n",
    "2014-04-18,Good Friday\n",
    "2014-04-19,Easter Saturday\n",
    "2014-04-21,Easter Monday\n",
    "2014-04-25,Anzac Day\n",
    "2014-06-09,Queen's Birthday'''"
   ]
  },
  {
   "cell_type": "code",
   "execution_count": 15,
   "id": "0fe3c239",
   "metadata": {},
   "outputs": [],
   "source": [
    "def holiday_label (row):\n",
    "    if row == datetime.date(2013, 9, 1) :\n",
    "          return '1'\n",
    "    if row == datetime.date(2013, 10, 6) :\n",
    "          return '1'\n",
    "    if row == datetime.date(2013, 12, 22) :\n",
    "          return '2'\n",
    "    if row == datetime.date(2013, 12, 29):\n",
    "          return '1'\n",
    "    if row  == datetime.date(2014, 1, 26):\n",
    "          return '1'\n",
    "    if row == datetime.date(2014, 3, 9):\n",
    "          return '1'\n",
    "    if row == datetime.date(2014, 4, 13) :\n",
    "          return '2'\n",
    "    if row == datetime.date(2014, 4, 20):\n",
    "          return '2'\n",
    "    if row == datetime.date(2014, 6, 8):\n",
    "          return '1'\n",
    "    return '0'"
   ]
  },
  {
   "cell_type": "code",
   "execution_count": 16,
   "id": "2f0241dd",
   "metadata": {},
   "outputs": [],
   "source": [
    "import datetime\n",
    "df['WeekBeginning'] = pd.to_datetime(df['WeekBeginning']).dt.date"
   ]
  },
  {
   "cell_type": "code",
   "execution_count": 17,
   "id": "c82d4254",
   "metadata": {},
   "outputs": [
    {
     "name": "stdout",
     "output_type": "stream",
     "text": [
      "<class 'pandas.core.frame.DataFrame'>\n",
      "RangeIndex: 10857234 entries, 0 to 10857233\n",
      "Data columns (total 13 columns):\n",
      " #   Column             Dtype  \n",
      "---  ------             -----  \n",
      " 0   TripID             int64  \n",
      " 1   RouteID            object \n",
      " 2   StopID             int64  \n",
      " 3   StopName           object \n",
      " 4   WeekBeginning      object \n",
      " 5   NumberOfBoardings  int64  \n",
      " 6   formatted_address  object \n",
      " 7   latitude           float64\n",
      " 8   longitude          float64\n",
      " 9   postcode           object \n",
      " 10  type               object \n",
      " 11  route_desc         object \n",
      " 12  dist_from_centre   float64\n",
      "dtypes: float64(3), int64(3), object(7)\n",
      "memory usage: 1.1+ GB\n"
     ]
    }
   ],
   "source": [
    "df.info()"
   ]
  },
  {
   "cell_type": "code",
   "execution_count": 18,
   "id": "0e171972",
   "metadata": {},
   "outputs": [],
   "source": [
    "df['holiday_label'] = df['WeekBeginning'].apply (lambda row: holiday_label(row))"
   ]
  },
  {
   "cell_type": "code",
   "execution_count": 19,
   "id": "9089fc4e",
   "metadata": {},
   "outputs": [
    {
     "data": {
      "text/plain": [
       "Index(['TripID', 'RouteID', 'StopID', 'StopName', 'WeekBeginning',\n",
       "       'NumberOfBoardings', 'formatted_address', 'latitude', 'longitude',\n",
       "       'postcode', 'type', 'route_desc', 'dist_from_centre', 'holiday_label'],\n",
       "      dtype='object')"
      ]
     },
     "execution_count": 19,
     "metadata": {},
     "output_type": "execute_result"
    }
   ],
   "source": [
    "df.columns"
   ]
  },
  {
   "cell_type": "code",
   "execution_count": 20,
   "id": "c1698373",
   "metadata": {},
   "outputs": [
    {
     "data": {
      "text/plain": [
       "(10857234, 14)"
      ]
     },
     "execution_count": 20,
     "metadata": {},
     "output_type": "execute_result"
    }
   ],
   "source": [
    "df.shape"
   ]
  },
  {
   "cell_type": "markdown",
   "id": "0f75540b",
   "metadata": {},
   "source": [
    "# Analysis the data"
   ]
  },
  {
   "cell_type": "code",
   "execution_count": 21,
   "id": "94323320",
   "metadata": {},
   "outputs": [
    {
     "name": "stderr",
     "output_type": "stream",
     "text": [
      "C:\\Users\\bhole\\AppData\\Local\\Temp\\ipykernel_8780\\2343479785.py:3: FutureWarning: Index.ravel returning ndarray is deprecated; in a future version this will return a view on self.\n",
      "  grouped.columns = [\"_\".join(x) for x in grouped.columns.ravel()]\n"
     ]
    }
   ],
   "source": [
    "# st_week_grp1 = pd.DataFrame(data.groupby(['StopName','WeekBeginning','type']).agg({'NumberOfBoardings': ['sum', 'count']})).reset_index()\n",
    "grouped = df.groupby(['StopName','WeekBeginning','type']).agg({'NumberOfBoardings': ['sum', 'count','max']})\n",
    "grouped.columns = [\"_\".join(x) for x in grouped.columns.ravel()]"
   ]
  },
  {
   "cell_type": "code",
   "execution_count": 22,
   "id": "2e1f46a1",
   "metadata": {},
   "outputs": [
    {
     "data": {
      "text/html": [
       "<div>\n",
       "<style scoped>\n",
       "    .dataframe tbody tr th:only-of-type {\n",
       "        vertical-align: middle;\n",
       "    }\n",
       "\n",
       "    .dataframe tbody tr th {\n",
       "        vertical-align: top;\n",
       "    }\n",
       "\n",
       "    .dataframe thead th {\n",
       "        text-align: right;\n",
       "    }\n",
       "</style>\n",
       "<table border=\"1\" class=\"dataframe\">\n",
       "  <thead>\n",
       "    <tr style=\"text-align: right;\">\n",
       "      <th></th>\n",
       "      <th></th>\n",
       "      <th></th>\n",
       "      <th>NumberOfBoardings_sum</th>\n",
       "      <th>NumberOfBoardings_count</th>\n",
       "      <th>NumberOfBoardings_max</th>\n",
       "    </tr>\n",
       "    <tr>\n",
       "      <th>StopName</th>\n",
       "      <th>WeekBeginning</th>\n",
       "      <th>type</th>\n",
       "      <th></th>\n",
       "      <th></th>\n",
       "      <th></th>\n",
       "    </tr>\n",
       "  </thead>\n",
       "  <tbody>\n",
       "    <tr>\n",
       "      <th rowspan=\"5\" valign=\"top\">1 Anzac Hwy</th>\n",
       "      <th>2013-06-30</th>\n",
       "      <th>street_address</th>\n",
       "      <td>1003</td>\n",
       "      <td>378</td>\n",
       "      <td>51</td>\n",
       "    </tr>\n",
       "    <tr>\n",
       "      <th>2013-07-07</th>\n",
       "      <th>street_address</th>\n",
       "      <td>783</td>\n",
       "      <td>360</td>\n",
       "      <td>28</td>\n",
       "    </tr>\n",
       "    <tr>\n",
       "      <th>2013-07-14</th>\n",
       "      <th>street_address</th>\n",
       "      <td>843</td>\n",
       "      <td>343</td>\n",
       "      <td>45</td>\n",
       "    </tr>\n",
       "    <tr>\n",
       "      <th>2013-07-21</th>\n",
       "      <th>street_address</th>\n",
       "      <td>710</td>\n",
       "      <td>356</td>\n",
       "      <td>28</td>\n",
       "    </tr>\n",
       "    <tr>\n",
       "      <th>2013-07-28</th>\n",
       "      <th>street_address</th>\n",
       "      <td>898</td>\n",
       "      <td>379</td>\n",
       "      <td>41</td>\n",
       "    </tr>\n",
       "  </tbody>\n",
       "</table>\n",
       "</div>"
      ],
      "text/plain": [
       "                                          NumberOfBoardings_sum  \\\n",
       "StopName    WeekBeginning type                                    \n",
       "1 Anzac Hwy 2013-06-30    street_address                   1003   \n",
       "            2013-07-07    street_address                    783   \n",
       "            2013-07-14    street_address                    843   \n",
       "            2013-07-21    street_address                    710   \n",
       "            2013-07-28    street_address                    898   \n",
       "\n",
       "                                          NumberOfBoardings_count  \\\n",
       "StopName    WeekBeginning type                                      \n",
       "1 Anzac Hwy 2013-06-30    street_address                      378   \n",
       "            2013-07-07    street_address                      360   \n",
       "            2013-07-14    street_address                      343   \n",
       "            2013-07-21    street_address                      356   \n",
       "            2013-07-28    street_address                      379   \n",
       "\n",
       "                                          NumberOfBoardings_max  \n",
       "StopName    WeekBeginning type                                   \n",
       "1 Anzac Hwy 2013-06-30    street_address                     51  \n",
       "            2013-07-07    street_address                     28  \n",
       "            2013-07-14    street_address                     45  \n",
       "            2013-07-21    street_address                     28  \n",
       "            2013-07-28    street_address                     41  "
      ]
     },
     "execution_count": 22,
     "metadata": {},
     "output_type": "execute_result"
    }
   ],
   "source": [
    "grouped.head()"
   ]
  },
  {
   "cell_type": "code",
   "execution_count": 23,
   "id": "909b4290",
   "metadata": {},
   "outputs": [
    {
     "data": {
      "text/plain": [
       "(207864, 3)"
      ]
     },
     "execution_count": 23,
     "metadata": {},
     "output_type": "execute_result"
    }
   ],
   "source": [
    "grouped.shape"
   ]
  },
  {
   "cell_type": "code",
   "execution_count": 24,
   "id": "0912d9a4",
   "metadata": {},
   "outputs": [
    {
     "data": {
      "text/html": [
       "<div>\n",
       "<style scoped>\n",
       "    .dataframe tbody tr th:only-of-type {\n",
       "        vertical-align: middle;\n",
       "    }\n",
       "\n",
       "    .dataframe tbody tr th {\n",
       "        vertical-align: top;\n",
       "    }\n",
       "\n",
       "    .dataframe thead th {\n",
       "        text-align: right;\n",
       "    }\n",
       "</style>\n",
       "<table border=\"1\" class=\"dataframe\">\n",
       "  <thead>\n",
       "    <tr style=\"text-align: right;\">\n",
       "      <th></th>\n",
       "      <th>StopName</th>\n",
       "      <th>WeekBeginning</th>\n",
       "      <th>type</th>\n",
       "      <th>NumberOfBoardings_sum</th>\n",
       "      <th>NumberOfBoardings_count</th>\n",
       "      <th>NumberOfBoardings_max</th>\n",
       "    </tr>\n",
       "  </thead>\n",
       "  <tbody>\n",
       "    <tr>\n",
       "      <th>0</th>\n",
       "      <td>1 Anzac Hwy</td>\n",
       "      <td>2013-06-30</td>\n",
       "      <td>street_address</td>\n",
       "      <td>1003</td>\n",
       "      <td>378</td>\n",
       "      <td>51</td>\n",
       "    </tr>\n",
       "    <tr>\n",
       "      <th>1</th>\n",
       "      <td>1 Anzac Hwy</td>\n",
       "      <td>2013-07-07</td>\n",
       "      <td>street_address</td>\n",
       "      <td>783</td>\n",
       "      <td>360</td>\n",
       "      <td>28</td>\n",
       "    </tr>\n",
       "    <tr>\n",
       "      <th>2</th>\n",
       "      <td>1 Anzac Hwy</td>\n",
       "      <td>2013-07-14</td>\n",
       "      <td>street_address</td>\n",
       "      <td>843</td>\n",
       "      <td>343</td>\n",
       "      <td>45</td>\n",
       "    </tr>\n",
       "    <tr>\n",
       "      <th>3</th>\n",
       "      <td>1 Anzac Hwy</td>\n",
       "      <td>2013-07-21</td>\n",
       "      <td>street_address</td>\n",
       "      <td>710</td>\n",
       "      <td>356</td>\n",
       "      <td>28</td>\n",
       "    </tr>\n",
       "    <tr>\n",
       "      <th>4</th>\n",
       "      <td>1 Anzac Hwy</td>\n",
       "      <td>2013-07-28</td>\n",
       "      <td>street_address</td>\n",
       "      <td>898</td>\n",
       "      <td>379</td>\n",
       "      <td>41</td>\n",
       "    </tr>\n",
       "  </tbody>\n",
       "</table>\n",
       "</div>"
      ],
      "text/plain": [
       "      StopName WeekBeginning            type  NumberOfBoardings_sum  \\\n",
       "0  1 Anzac Hwy    2013-06-30  street_address                   1003   \n",
       "1  1 Anzac Hwy    2013-07-07  street_address                    783   \n",
       "2  1 Anzac Hwy    2013-07-14  street_address                    843   \n",
       "3  1 Anzac Hwy    2013-07-21  street_address                    710   \n",
       "4  1 Anzac Hwy    2013-07-28  street_address                    898   \n",
       "\n",
       "   NumberOfBoardings_count  NumberOfBoardings_max  \n",
       "0                      378                     51  \n",
       "1                      360                     28  \n",
       "2                      343                     45  \n",
       "3                      356                     28  \n",
       "4                      379                     41  "
      ]
     },
     "execution_count": 24,
     "metadata": {},
     "output_type": "execute_result"
    }
   ],
   "source": [
    "st_week_grp = pd.DataFrame(grouped).reset_index()\n",
    "st_week_grp.head()"
   ]
  },
  {
   "cell_type": "code",
   "execution_count": 25,
   "id": "4f56d6b2",
   "metadata": {},
   "outputs": [
    {
     "data": {
      "text/plain": [
       "(207864, 6)"
      ]
     },
     "execution_count": 25,
     "metadata": {},
     "output_type": "execute_result"
    }
   ],
   "source": [
    "st_week_grp.shape"
   ]
  },
  {
   "cell_type": "code",
   "execution_count": 26,
   "id": "0e27dc98",
   "metadata": {},
   "outputs": [
    {
     "data": {
      "text/html": [
       "<div>\n",
       "<style scoped>\n",
       "    .dataframe tbody tr th:only-of-type {\n",
       "        vertical-align: middle;\n",
       "    }\n",
       "\n",
       "    .dataframe tbody tr th {\n",
       "        vertical-align: top;\n",
       "    }\n",
       "\n",
       "    .dataframe thead th {\n",
       "        text-align: right;\n",
       "    }\n",
       "</style>\n",
       "<table border=\"1\" class=\"dataframe\">\n",
       "  <thead>\n",
       "    <tr style=\"text-align: right;\">\n",
       "      <th></th>\n",
       "      <th>StopName</th>\n",
       "      <th>WeekBeginning</th>\n",
       "    </tr>\n",
       "  </thead>\n",
       "  <tbody>\n",
       "    <tr>\n",
       "      <th>0</th>\n",
       "      <td>1 Anzac Hwy</td>\n",
       "      <td>54</td>\n",
       "    </tr>\n",
       "    <tr>\n",
       "      <th>1</th>\n",
       "      <td>1 Bartels Rd</td>\n",
       "      <td>54</td>\n",
       "    </tr>\n",
       "    <tr>\n",
       "      <th>2</th>\n",
       "      <td>1 Botanic Rd</td>\n",
       "      <td>54</td>\n",
       "    </tr>\n",
       "    <tr>\n",
       "      <th>3</th>\n",
       "      <td>1 Frome Rd</td>\n",
       "      <td>54</td>\n",
       "    </tr>\n",
       "    <tr>\n",
       "      <th>4</th>\n",
       "      <td>1 Fullarton Rd</td>\n",
       "      <td>54</td>\n",
       "    </tr>\n",
       "  </tbody>\n",
       "</table>\n",
       "</div>"
      ],
      "text/plain": [
       "         StopName  WeekBeginning\n",
       "0     1 Anzac Hwy             54\n",
       "1    1 Bartels Rd             54\n",
       "2    1 Botanic Rd             54\n",
       "3      1 Frome Rd             54\n",
       "4  1 Fullarton Rd             54"
      ]
     },
     "execution_count": 26,
     "metadata": {},
     "output_type": "execute_result"
    }
   ],
   "source": [
    "#as per each stop name count the no of boarding\n",
    "st_week_grp1 = pd.DataFrame(st_week_grp.groupby('StopName')[\"WeekBeginning\"].count()).reset_index()\n",
    "st_week_grp1.head()"
   ]
  },
  {
   "cell_type": "code",
   "execution_count": 27,
   "id": "be01975f",
   "metadata": {},
   "outputs": [
    {
     "data": {
      "text/plain": [
       "54    3249\n",
       "53     113\n",
       "52      76\n",
       "51      44\n",
       "41      37\n",
       "50      33\n",
       "40      31\n",
       "48      31\n",
       "47      26\n",
       "2       24\n",
       "45      23\n",
       "49      21\n",
       "46      20\n",
       "1       19\n",
       "34      18\n",
       "20      18\n",
       "27      17\n",
       "35      17\n",
       "9       15\n",
       "42      15\n",
       "37      14\n",
       "44      13\n",
       "17      13\n",
       "24      13\n",
       "39      12\n",
       "32      12\n",
       "38      12\n",
       "12      11\n",
       "8       11\n",
       "43      11\n",
       "26      11\n",
       "30      11\n",
       "15      11\n",
       "16      10\n",
       "11      10\n",
       "23      10\n",
       "6       10\n",
       "31      10\n",
       "21      10\n",
       "29       9\n",
       "4        9\n",
       "22       9\n",
       "3        9\n",
       "7        8\n",
       "5        8\n",
       "33       8\n",
       "36       7\n",
       "28       7\n",
       "18       6\n",
       "10       6\n",
       "13       5\n",
       "19       5\n",
       "14       4\n",
       "25       3\n",
       "Name: WeekBeginning, dtype: int64"
      ]
     },
     "execution_count": 27,
     "metadata": {},
     "output_type": "execute_result"
    }
   ],
   "source": [
    "st_week_grp1['WeekBeginning'].value_counts()\n",
    "#54 weeks data available in 3249 stops"
   ]
  },
  {
   "cell_type": "code",
   "execution_count": 28,
   "id": "77a970d7",
   "metadata": {},
   "outputs": [
    {
     "data": {
      "text/plain": [
       "['1 Bartels Rd',\n",
       " '1 Botanic Rd',\n",
       " '1 Frome Rd',\n",
       " '1 Fullarton Rd',\n",
       " '1 George St',\n",
       " '1 Glen Osmond Rd',\n",
       " '1 Goodwood Rd',\n",
       " '1 Henley Beach Rd',\n",
       " '1 Kensington Rd']"
      ]
     },
     "execution_count": 28,
     "metadata": {},
     "output_type": "execute_result"
    }
   ],
   "source": [
    "#Gathering only the Stop Name which having all 54 weeks of Data\n",
    "aa = list(st_week_grp1[st_week_grp1['WeekBeginning'] == 54]['StopName'])\n",
    "aa[1:10]"
   ]
  },
  {
   "cell_type": "code",
   "execution_count": 29,
   "id": "27df9977",
   "metadata": {},
   "outputs": [
    {
     "data": {
      "text/plain": [
       "3249"
      ]
     },
     "execution_count": 29,
     "metadata": {},
     "output_type": "execute_result"
    }
   ],
   "source": [
    "len(aa)"
   ]
  },
  {
   "cell_type": "code",
   "execution_count": 30,
   "id": "9b158ce0",
   "metadata": {},
   "outputs": [
    {
     "data": {
      "text/html": [
       "<div>\n",
       "<style scoped>\n",
       "    .dataframe tbody tr th:only-of-type {\n",
       "        vertical-align: middle;\n",
       "    }\n",
       "\n",
       "    .dataframe tbody tr th {\n",
       "        vertical-align: top;\n",
       "    }\n",
       "\n",
       "    .dataframe thead th {\n",
       "        text-align: right;\n",
       "    }\n",
       "</style>\n",
       "<table border=\"1\" class=\"dataframe\">\n",
       "  <thead>\n",
       "    <tr style=\"text-align: right;\">\n",
       "      <th></th>\n",
       "      <th>StopName</th>\n",
       "      <th>WeekBeginning</th>\n",
       "      <th>type</th>\n",
       "      <th>NumberOfBoardings_sum</th>\n",
       "      <th>NumberOfBoardings_count</th>\n",
       "      <th>NumberOfBoardings_max</th>\n",
       "    </tr>\n",
       "  </thead>\n",
       "  <tbody>\n",
       "    <tr>\n",
       "      <th>0</th>\n",
       "      <td>1 Anzac Hwy</td>\n",
       "      <td>2013-06-30</td>\n",
       "      <td>street_address</td>\n",
       "      <td>1003</td>\n",
       "      <td>378</td>\n",
       "      <td>51</td>\n",
       "    </tr>\n",
       "    <tr>\n",
       "      <th>1</th>\n",
       "      <td>1 Anzac Hwy</td>\n",
       "      <td>2013-07-07</td>\n",
       "      <td>street_address</td>\n",
       "      <td>783</td>\n",
       "      <td>360</td>\n",
       "      <td>28</td>\n",
       "    </tr>\n",
       "    <tr>\n",
       "      <th>2</th>\n",
       "      <td>1 Anzac Hwy</td>\n",
       "      <td>2013-07-14</td>\n",
       "      <td>street_address</td>\n",
       "      <td>843</td>\n",
       "      <td>343</td>\n",
       "      <td>45</td>\n",
       "    </tr>\n",
       "    <tr>\n",
       "      <th>3</th>\n",
       "      <td>1 Anzac Hwy</td>\n",
       "      <td>2013-07-21</td>\n",
       "      <td>street_address</td>\n",
       "      <td>710</td>\n",
       "      <td>356</td>\n",
       "      <td>28</td>\n",
       "    </tr>\n",
       "    <tr>\n",
       "      <th>4</th>\n",
       "      <td>1 Anzac Hwy</td>\n",
       "      <td>2013-07-28</td>\n",
       "      <td>street_address</td>\n",
       "      <td>898</td>\n",
       "      <td>379</td>\n",
       "      <td>41</td>\n",
       "    </tr>\n",
       "  </tbody>\n",
       "</table>\n",
       "</div>"
      ],
      "text/plain": [
       "      StopName WeekBeginning            type  NumberOfBoardings_sum  \\\n",
       "0  1 Anzac Hwy    2013-06-30  street_address                   1003   \n",
       "1  1 Anzac Hwy    2013-07-07  street_address                    783   \n",
       "2  1 Anzac Hwy    2013-07-14  street_address                    843   \n",
       "3  1 Anzac Hwy    2013-07-21  street_address                    710   \n",
       "4  1 Anzac Hwy    2013-07-28  street_address                    898   \n",
       "\n",
       "   NumberOfBoardings_count  NumberOfBoardings_max  \n",
       "0                      378                     51  \n",
       "1                      360                     28  \n",
       "2                      343                     45  \n",
       "3                      356                     28  \n",
       "4                      379                     41  "
      ]
     },
     "execution_count": 30,
     "metadata": {},
     "output_type": "execute_result"
    }
   ],
   "source": [
    "bb = st_week_grp[st_week_grp['StopName'].isin(aa)]\n",
    "bb.head()"
   ]
  },
  {
   "cell_type": "code",
   "execution_count": 31,
   "id": "55862f53",
   "metadata": {},
   "outputs": [
    {
     "data": {
      "text/plain": [
       "(175446, 6)"
      ]
     },
     "execution_count": 31,
     "metadata": {},
     "output_type": "execute_result"
    }
   ],
   "source": [
    "bb.shape"
   ]
  },
  {
   "cell_type": "code",
   "execution_count": 32,
   "id": "36b31bfa",
   "metadata": {},
   "outputs": [
    {
     "name": "stdout",
     "output_type": "stream",
     "text": [
      "data without stopage removing:  (10857234, 14)\n",
      "data, after removing stoppage not having the data of whole 54 weeks:  (10567931, 14)\n"
     ]
    }
   ],
   "source": [
    "#removing the stoppage which are not having the data of whole 54 weeks\n",
    "new_data = df[df['StopName'].isin(aa)]\n",
    "new_data.shape\n",
    "print(\"data without stopage removing: \", df.shape)\n",
    "print(\"data, after removing stoppage not having the data of whole 54 weeks: \", new_data.shape)"
   ]
  },
  {
   "cell_type": "code",
   "execution_count": 33,
   "id": "4d382e3d",
   "metadata": {},
   "outputs": [],
   "source": [
    "#No of boarding for each stopage in all weeks\n",
    "#bb[\"StopName\"].groupby(NumberOfBoardings_sum)\n",
    "stopageName_with_boarding = bb.groupby(['StopName']).agg({'NumberOfBoardings_sum': ['sum']})\n",
    "\n",
    "#stopageName_with_boarding.columns = [\"_\".join(x) for x in stopageName_with_boarding.columns.ravel()]\n",
    "#stopageName_with_boarding.head()\n",
    "stopageName_with_boarding = pd.DataFrame(stopageName_with_boarding.reset_index())"
   ]
  },
  {
   "cell_type": "code",
   "execution_count": 34,
   "id": "259b3888",
   "metadata": {},
   "outputs": [
    {
     "data": {
      "text/html": [
       "<div>\n",
       "<style scoped>\n",
       "    .dataframe tbody tr th:only-of-type {\n",
       "        vertical-align: middle;\n",
       "    }\n",
       "\n",
       "    .dataframe tbody tr th {\n",
       "        vertical-align: top;\n",
       "    }\n",
       "\n",
       "    .dataframe thead tr th {\n",
       "        text-align: left;\n",
       "    }\n",
       "</style>\n",
       "<table border=\"1\" class=\"dataframe\">\n",
       "  <thead>\n",
       "    <tr>\n",
       "      <th></th>\n",
       "      <th>StopName</th>\n",
       "      <th>NumberOfBoardings_sum</th>\n",
       "    </tr>\n",
       "    <tr>\n",
       "      <th></th>\n",
       "      <th></th>\n",
       "      <th>sum</th>\n",
       "    </tr>\n",
       "  </thead>\n",
       "  <tbody>\n",
       "    <tr>\n",
       "      <th>0</th>\n",
       "      <td>1 Anzac Hwy</td>\n",
       "      <td>39429</td>\n",
       "    </tr>\n",
       "    <tr>\n",
       "      <th>1</th>\n",
       "      <td>1 Bartels Rd</td>\n",
       "      <td>8412</td>\n",
       "    </tr>\n",
       "    <tr>\n",
       "      <th>2</th>\n",
       "      <td>1 Botanic Rd</td>\n",
       "      <td>14868</td>\n",
       "    </tr>\n",
       "    <tr>\n",
       "      <th>3</th>\n",
       "      <td>1 Frome Rd</td>\n",
       "      <td>67458</td>\n",
       "    </tr>\n",
       "    <tr>\n",
       "      <th>4</th>\n",
       "      <td>1 Fullarton Rd</td>\n",
       "      <td>585</td>\n",
       "    </tr>\n",
       "  </tbody>\n",
       "</table>\n",
       "</div>"
      ],
      "text/plain": [
       "         StopName NumberOfBoardings_sum\n",
       "                                    sum\n",
       "0     1 Anzac Hwy                 39429\n",
       "1    1 Bartels Rd                  8412\n",
       "2    1 Botanic Rd                 14868\n",
       "3      1 Frome Rd                 67458\n",
       "4  1 Fullarton Rd                   585"
      ]
     },
     "execution_count": 34,
     "metadata": {},
     "output_type": "execute_result"
    }
   ],
   "source": [
    "stopageName_with_boarding.head()"
   ]
  },
  {
   "cell_type": "code",
   "execution_count": 35,
   "id": "7e45ddc0",
   "metadata": {},
   "outputs": [
    {
     "data": {
      "text/html": [
       "<div>\n",
       "<style scoped>\n",
       "    .dataframe tbody tr th:only-of-type {\n",
       "        vertical-align: middle;\n",
       "    }\n",
       "\n",
       "    .dataframe tbody tr th {\n",
       "        vertical-align: top;\n",
       "    }\n",
       "\n",
       "    .dataframe thead th {\n",
       "        text-align: right;\n",
       "    }\n",
       "</style>\n",
       "<table border=\"1\" class=\"dataframe\">\n",
       "  <thead>\n",
       "    <tr style=\"text-align: right;\">\n",
       "      <th></th>\n",
       "      <th>StopName</th>\n",
       "      <th>Total_boarding_on_the_stopage</th>\n",
       "    </tr>\n",
       "  </thead>\n",
       "  <tbody>\n",
       "    <tr>\n",
       "      <th>0</th>\n",
       "      <td>1 Anzac Hwy</td>\n",
       "      <td>39429</td>\n",
       "    </tr>\n",
       "    <tr>\n",
       "      <th>1</th>\n",
       "      <td>1 Bartels Rd</td>\n",
       "      <td>8412</td>\n",
       "    </tr>\n",
       "    <tr>\n",
       "      <th>2</th>\n",
       "      <td>1 Botanic Rd</td>\n",
       "      <td>14868</td>\n",
       "    </tr>\n",
       "    <tr>\n",
       "      <th>3</th>\n",
       "      <td>1 Frome Rd</td>\n",
       "      <td>67458</td>\n",
       "    </tr>\n",
       "    <tr>\n",
       "      <th>4</th>\n",
       "      <td>1 Fullarton Rd</td>\n",
       "      <td>585</td>\n",
       "    </tr>\n",
       "  </tbody>\n",
       "</table>\n",
       "</div>"
      ],
      "text/plain": [
       "         StopName  Total_boarding_on_the_stopage\n",
       "0     1 Anzac Hwy                          39429\n",
       "1    1 Bartels Rd                           8412\n",
       "2    1 Botanic Rd                          14868\n",
       "3      1 Frome Rd                          67458\n",
       "4  1 Fullarton Rd                            585"
      ]
     },
     "execution_count": 35,
     "metadata": {},
     "output_type": "execute_result"
    }
   ],
   "source": [
    "#type(stopageName_with_boarding)\n",
    "stopageName_with_boarding.columns = [\"StopName\",\"Total_boarding_on_the_stopage\"]\n",
    "#stopageName_with_boarding.shape\n",
    "stopageName_with_boarding.head()"
   ]
  },
  {
   "cell_type": "markdown",
   "id": "5848bcf8",
   "metadata": {},
   "source": [
    "# handling the null values"
   ]
  },
  {
   "cell_type": "code",
   "execution_count": 36,
   "id": "fae4d0ad",
   "metadata": {},
   "outputs": [
    {
     "data": {
      "text/plain": [
       "TripID                0.000000\n",
       "RouteID               0.000000\n",
       "StopID                0.000000\n",
       "StopName              0.000000\n",
       "WeekBeginning         0.000000\n",
       "NumberOfBoardings     0.000000\n",
       "formatted_address     0.032292\n",
       "latitude              0.000000\n",
       "longitude             0.000000\n",
       "postcode              3.915187\n",
       "type                  0.000000\n",
       "route_desc           19.402898\n",
       "dist_from_centre      0.000000\n",
       "holiday_label         0.000000\n",
       "dtype: float64"
      ]
     },
     "execution_count": 36,
     "metadata": {},
     "output_type": "execute_result"
    }
   ],
   "source": [
    "df.isnull().sum()*100/len(df)"
   ]
  },
  {
   "cell_type": "code",
   "execution_count": 37,
   "id": "d6f78fe0",
   "metadata": {},
   "outputs": [],
   "source": [
    "df['route_desc'] = df['route_desc'].fillna('others')"
   ]
  },
  {
   "cell_type": "code",
   "execution_count": 38,
   "id": "7109db47",
   "metadata": {},
   "outputs": [
    {
     "data": {
      "text/plain": [
       "3506"
      ]
     },
     "execution_count": 38,
     "metadata": {},
     "output_type": "execute_result"
    }
   ],
   "source": [
    "df['formatted_address'].isna().sum()"
   ]
  },
  {
   "cell_type": "code",
   "execution_count": 39,
   "id": "9cf73914",
   "metadata": {},
   "outputs": [],
   "source": [
    "df['formatted_address']=df['formatted_address'].fillna('others')"
   ]
  },
  {
   "cell_type": "code",
   "execution_count": 40,
   "id": "6de4bc8a",
   "metadata": {},
   "outputs": [],
   "source": [
    "cleaned=df.dropna()"
   ]
  },
  {
   "cell_type": "code",
   "execution_count": 41,
   "id": "11785c96",
   "metadata": {},
   "outputs": [
    {
     "data": {
      "text/plain": [
       "TripID               0.000000\n",
       "RouteID              0.000000\n",
       "StopID               0.000000\n",
       "StopName             0.000000\n",
       "WeekBeginning        0.000000\n",
       "NumberOfBoardings    0.000000\n",
       "formatted_address    0.000000\n",
       "latitude             0.000000\n",
       "longitude            0.000000\n",
       "postcode             3.915187\n",
       "type                 0.000000\n",
       "route_desc           0.000000\n",
       "dist_from_centre     0.000000\n",
       "holiday_label        0.000000\n",
       "dtype: float64"
      ]
     },
     "execution_count": 41,
     "metadata": {},
     "output_type": "execute_result"
    }
   ],
   "source": [
    "df.isnull().sum()*100/len(df)"
   ]
  },
  {
   "cell_type": "code",
   "execution_count": 42,
   "id": "c2f34f02",
   "metadata": {},
   "outputs": [
    {
     "data": {
      "text/plain": [
       "(10432153, 14)"
      ]
     },
     "execution_count": 42,
     "metadata": {},
     "output_type": "execute_result"
    }
   ],
   "source": [
    "cleaned.shape"
   ]
  },
  {
   "cell_type": "markdown",
   "id": "abe8be31",
   "metadata": {},
   "source": [
    "## import output_geo dataset and merge data which are required for model"
   ]
  },
  {
   "cell_type": "code",
   "execution_count": 43,
   "id": "e75bf369",
   "metadata": {},
   "outputs": [],
   "source": [
    "out_geo=pd.read_csv(\"output_geo.csv\")"
   ]
  },
  {
   "cell_type": "code",
   "execution_count": 44,
   "id": "8bb60271",
   "metadata": {},
   "outputs": [
    {
     "data": {
      "text/plain": [
       "(4165, 10)"
      ]
     },
     "execution_count": 44,
     "metadata": {},
     "output_type": "execute_result"
    }
   ],
   "source": [
    "out_geo.shape"
   ]
  },
  {
   "cell_type": "code",
   "execution_count": 45,
   "id": "3348c426",
   "metadata": {},
   "outputs": [],
   "source": [
    "from math import sin, cos, sqrt, atan2, radians\n",
    "def calc_dist(lat1,lon1):\n",
    "    ## approximate radius of earth in km\n",
    "    R = 6373.0\n",
    "    dlon = radians(138.604801) - radians(lon1)\n",
    "    dlat = radians(-34.921247) - radians(lat1)\n",
    "    a = sin(dlat / 2)**2 + cos(radians(lat1)) * cos(radians(-34.921247)) * sin(dlon / 2)**2\n",
    "    c = 2 * atan2(sqrt(a), sqrt(1 - a))\n",
    "    return R * c"
   ]
  },
  {
   "cell_type": "code",
   "execution_count": 46,
   "id": "6b2f1bb0",
   "metadata": {},
   "outputs": [],
   "source": [
    "out_geo['dist_from_centre'] = out_geo[['latitude','longitude']].apply(lambda x: calc_dist(*x), axis=1)"
   ]
  },
  {
   "cell_type": "code",
   "execution_count": 47,
   "id": "2d6fdbc3",
   "metadata": {},
   "outputs": [
    {
     "data": {
      "text/html": [
       "<div>\n",
       "<style scoped>\n",
       "    .dataframe tbody tr th:only-of-type {\n",
       "        vertical-align: middle;\n",
       "    }\n",
       "\n",
       "    .dataframe tbody tr th {\n",
       "        vertical-align: top;\n",
       "    }\n",
       "\n",
       "    .dataframe thead th {\n",
       "        text-align: right;\n",
       "    }\n",
       "</style>\n",
       "<table border=\"1\" class=\"dataframe\">\n",
       "  <thead>\n",
       "    <tr style=\"text-align: right;\">\n",
       "      <th></th>\n",
       "      <th>accuracy</th>\n",
       "      <th>formatted_address</th>\n",
       "      <th>google_place_id</th>\n",
       "      <th>input_string</th>\n",
       "      <th>latitude</th>\n",
       "      <th>longitude</th>\n",
       "      <th>number_of_results</th>\n",
       "      <th>postcode</th>\n",
       "      <th>status</th>\n",
       "      <th>type</th>\n",
       "      <th>dist_from_centre</th>\n",
       "    </tr>\n",
       "  </thead>\n",
       "  <tbody>\n",
       "    <tr>\n",
       "      <th>0</th>\n",
       "      <td>ROOFTOP</td>\n",
       "      <td>181 Cross Rd, Westbourne Park SA 5041, Australia</td>\n",
       "      <td>ChIJKT7I9rbPsGoRVHMHkIy-Oyk</td>\n",
       "      <td>181 Cross Rd</td>\n",
       "      <td>-34.966656</td>\n",
       "      <td>138.592148</td>\n",
       "      <td>1</td>\n",
       "      <td>5041</td>\n",
       "      <td>OK</td>\n",
       "      <td>street_address</td>\n",
       "      <td>5.180961</td>\n",
       "    </tr>\n",
       "    <tr>\n",
       "      <th>1</th>\n",
       "      <td>ROOFTOP</td>\n",
       "      <td>177 Cross Rd, Westbourne Park SA 5041, Australia</td>\n",
       "      <td>ChIJ-VFZ87bPsGoRyfVgC5qbPpE</td>\n",
       "      <td>177 Cross Rd</td>\n",
       "      <td>-34.966607</td>\n",
       "      <td>138.592301</td>\n",
       "      <td>1</td>\n",
       "      <td>5041</td>\n",
       "      <td>OK</td>\n",
       "      <td>street_address</td>\n",
       "      <td>5.172525</td>\n",
       "    </tr>\n",
       "    <tr>\n",
       "      <th>2</th>\n",
       "      <td>ROOFTOP</td>\n",
       "      <td>175 Cross Rd, Westbourne Park SA 5041, Australia</td>\n",
       "      <td>ChIJIztlirbPsGoR38KRk76kPFI</td>\n",
       "      <td>175 Cross Rd</td>\n",
       "      <td>-34.966758</td>\n",
       "      <td>138.592715</td>\n",
       "      <td>1</td>\n",
       "      <td>5041</td>\n",
       "      <td>OK</td>\n",
       "      <td>street_address</td>\n",
       "      <td>5.180709</td>\n",
       "    </tr>\n",
       "    <tr>\n",
       "      <th>3</th>\n",
       "      <td>GEOMETRIC_CENTER</td>\n",
       "      <td>Zone A Arndale Interchange - South side, Kilke...</td>\n",
       "      <td>ChIJn0C1hCPGsGoRIWvCdhF1RIg</td>\n",
       "      <td>Zone A Arndale Interchange</td>\n",
       "      <td>-34.875160</td>\n",
       "      <td>138.551628</td>\n",
       "      <td>1</td>\n",
       "      <td>5009</td>\n",
       "      <td>OK</td>\n",
       "      <td>bus_station,establishment,point_of_interest,tr...</td>\n",
       "      <td>7.057549</td>\n",
       "    </tr>\n",
       "    <tr>\n",
       "      <th>4</th>\n",
       "      <td>ROOFTOP</td>\n",
       "      <td>178 Cross Rd, Malvern SA 5061, Australia</td>\n",
       "      <td>ChIJycNiylvOsGoRdhfq9GKnpq0</td>\n",
       "      <td>178 Cross Rd</td>\n",
       "      <td>-34.964960</td>\n",
       "      <td>138.611477</td>\n",
       "      <td>1</td>\n",
       "      <td>5061</td>\n",
       "      <td>OK</td>\n",
       "      <td>street_address</td>\n",
       "      <td>4.900099</td>\n",
       "    </tr>\n",
       "  </tbody>\n",
       "</table>\n",
       "</div>"
      ],
      "text/plain": [
       "           accuracy                                  formatted_address  \\\n",
       "0           ROOFTOP   181 Cross Rd, Westbourne Park SA 5041, Australia   \n",
       "1           ROOFTOP   177 Cross Rd, Westbourne Park SA 5041, Australia   \n",
       "2           ROOFTOP   175 Cross Rd, Westbourne Park SA 5041, Australia   \n",
       "3  GEOMETRIC_CENTER  Zone A Arndale Interchange - South side, Kilke...   \n",
       "4           ROOFTOP           178 Cross Rd, Malvern SA 5061, Australia   \n",
       "\n",
       "               google_place_id                input_string   latitude  \\\n",
       "0  ChIJKT7I9rbPsGoRVHMHkIy-Oyk                181 Cross Rd -34.966656   \n",
       "1  ChIJ-VFZ87bPsGoRyfVgC5qbPpE                177 Cross Rd -34.966607   \n",
       "2  ChIJIztlirbPsGoR38KRk76kPFI                175 Cross Rd -34.966758   \n",
       "3  ChIJn0C1hCPGsGoRIWvCdhF1RIg  Zone A Arndale Interchange -34.875160   \n",
       "4  ChIJycNiylvOsGoRdhfq9GKnpq0                178 Cross Rd -34.964960   \n",
       "\n",
       "    longitude  number_of_results postcode status  \\\n",
       "0  138.592148                  1     5041     OK   \n",
       "1  138.592301                  1     5041     OK   \n",
       "2  138.592715                  1     5041     OK   \n",
       "3  138.551628                  1     5009     OK   \n",
       "4  138.611477                  1     5061     OK   \n",
       "\n",
       "                                                type  dist_from_centre  \n",
       "0                                     street_address          5.180961  \n",
       "1                                     street_address          5.172525  \n",
       "2                                     street_address          5.180709  \n",
       "3  bus_station,establishment,point_of_interest,tr...          7.057549  \n",
       "4                                     street_address          4.900099  "
      ]
     },
     "execution_count": 47,
     "metadata": {},
     "output_type": "execute_result"
    }
   ],
   "source": [
    "out_geo.head()"
   ]
  },
  {
   "cell_type": "code",
   "execution_count": 48,
   "id": "0838b81f",
   "metadata": {},
   "outputs": [],
   "source": [
    "##Fill the missing values with mode\n",
    "out_geo['type'].fillna('street_address',inplace=True)\n",
    "out_geo['type'] = out_geo['type'].apply(lambda x: str(x).split(',')[-1])"
   ]
  },
  {
   "cell_type": "code",
   "execution_count": 49,
   "id": "375bdb65",
   "metadata": {},
   "outputs": [
    {
     "data": {
      "text/plain": [
       "accuracy               4\n",
       "formatted_address      4\n",
       "google_place_id        4\n",
       "input_string           0\n",
       "latitude               0\n",
       "longitude              0\n",
       "number_of_results      0\n",
       "postcode             199\n",
       "status                 0\n",
       "type                   0\n",
       "dist_from_centre       0\n",
       "dtype: int64"
      ]
     },
     "execution_count": 49,
     "metadata": {},
     "output_type": "execute_result"
    }
   ],
   "source": [
    "out_geo.isna().sum()"
   ]
  },
  {
   "cell_type": "code",
   "execution_count": 50,
   "id": "3a2e17d3",
   "metadata": {},
   "outputs": [],
   "source": [
    "bb1 = pd.merge(bb, out_geo, how='left', left_on = 'StopName', right_on = 'input_string')"
   ]
  },
  {
   "cell_type": "code",
   "execution_count": 51,
   "id": "04b54c10",
   "metadata": {},
   "outputs": [
    {
     "data": {
      "text/html": [
       "<div>\n",
       "<style scoped>\n",
       "    .dataframe tbody tr th:only-of-type {\n",
       "        vertical-align: middle;\n",
       "    }\n",
       "\n",
       "    .dataframe tbody tr th {\n",
       "        vertical-align: top;\n",
       "    }\n",
       "\n",
       "    .dataframe thead th {\n",
       "        text-align: right;\n",
       "    }\n",
       "</style>\n",
       "<table border=\"1\" class=\"dataframe\">\n",
       "  <thead>\n",
       "    <tr style=\"text-align: right;\">\n",
       "      <th></th>\n",
       "      <th>StopName</th>\n",
       "      <th>WeekBeginning</th>\n",
       "      <th>type_x</th>\n",
       "      <th>NumberOfBoardings_sum</th>\n",
       "      <th>NumberOfBoardings_count</th>\n",
       "      <th>NumberOfBoardings_max</th>\n",
       "      <th>accuracy</th>\n",
       "      <th>formatted_address</th>\n",
       "      <th>google_place_id</th>\n",
       "      <th>input_string</th>\n",
       "      <th>latitude</th>\n",
       "      <th>longitude</th>\n",
       "      <th>number_of_results</th>\n",
       "      <th>postcode</th>\n",
       "      <th>status</th>\n",
       "      <th>type_y</th>\n",
       "      <th>dist_from_centre</th>\n",
       "    </tr>\n",
       "  </thead>\n",
       "  <tbody>\n",
       "    <tr>\n",
       "      <th>0</th>\n",
       "      <td>1 Anzac Hwy</td>\n",
       "      <td>2013-06-30</td>\n",
       "      <td>street_address</td>\n",
       "      <td>1003</td>\n",
       "      <td>378</td>\n",
       "      <td>51</td>\n",
       "      <td>ROOFTOP</td>\n",
       "      <td>1 Anzac Hwy, Keswick SA 5035, Australia</td>\n",
       "      <td>ChIJx2AyjwvPsGoRvAINzhi9VmA</td>\n",
       "      <td>1 Anzac Hwy</td>\n",
       "      <td>-34.942418</td>\n",
       "      <td>138.58183</td>\n",
       "      <td>1</td>\n",
       "      <td>5035</td>\n",
       "      <td>OK</td>\n",
       "      <td>street_address</td>\n",
       "      <td>3.151684</td>\n",
       "    </tr>\n",
       "    <tr>\n",
       "      <th>1</th>\n",
       "      <td>1 Anzac Hwy</td>\n",
       "      <td>2013-07-07</td>\n",
       "      <td>street_address</td>\n",
       "      <td>783</td>\n",
       "      <td>360</td>\n",
       "      <td>28</td>\n",
       "      <td>ROOFTOP</td>\n",
       "      <td>1 Anzac Hwy, Keswick SA 5035, Australia</td>\n",
       "      <td>ChIJx2AyjwvPsGoRvAINzhi9VmA</td>\n",
       "      <td>1 Anzac Hwy</td>\n",
       "      <td>-34.942418</td>\n",
       "      <td>138.58183</td>\n",
       "      <td>1</td>\n",
       "      <td>5035</td>\n",
       "      <td>OK</td>\n",
       "      <td>street_address</td>\n",
       "      <td>3.151684</td>\n",
       "    </tr>\n",
       "    <tr>\n",
       "      <th>2</th>\n",
       "      <td>1 Anzac Hwy</td>\n",
       "      <td>2013-07-14</td>\n",
       "      <td>street_address</td>\n",
       "      <td>843</td>\n",
       "      <td>343</td>\n",
       "      <td>45</td>\n",
       "      <td>ROOFTOP</td>\n",
       "      <td>1 Anzac Hwy, Keswick SA 5035, Australia</td>\n",
       "      <td>ChIJx2AyjwvPsGoRvAINzhi9VmA</td>\n",
       "      <td>1 Anzac Hwy</td>\n",
       "      <td>-34.942418</td>\n",
       "      <td>138.58183</td>\n",
       "      <td>1</td>\n",
       "      <td>5035</td>\n",
       "      <td>OK</td>\n",
       "      <td>street_address</td>\n",
       "      <td>3.151684</td>\n",
       "    </tr>\n",
       "    <tr>\n",
       "      <th>3</th>\n",
       "      <td>1 Anzac Hwy</td>\n",
       "      <td>2013-07-21</td>\n",
       "      <td>street_address</td>\n",
       "      <td>710</td>\n",
       "      <td>356</td>\n",
       "      <td>28</td>\n",
       "      <td>ROOFTOP</td>\n",
       "      <td>1 Anzac Hwy, Keswick SA 5035, Australia</td>\n",
       "      <td>ChIJx2AyjwvPsGoRvAINzhi9VmA</td>\n",
       "      <td>1 Anzac Hwy</td>\n",
       "      <td>-34.942418</td>\n",
       "      <td>138.58183</td>\n",
       "      <td>1</td>\n",
       "      <td>5035</td>\n",
       "      <td>OK</td>\n",
       "      <td>street_address</td>\n",
       "      <td>3.151684</td>\n",
       "    </tr>\n",
       "    <tr>\n",
       "      <th>4</th>\n",
       "      <td>1 Anzac Hwy</td>\n",
       "      <td>2013-07-28</td>\n",
       "      <td>street_address</td>\n",
       "      <td>898</td>\n",
       "      <td>379</td>\n",
       "      <td>41</td>\n",
       "      <td>ROOFTOP</td>\n",
       "      <td>1 Anzac Hwy, Keswick SA 5035, Australia</td>\n",
       "      <td>ChIJx2AyjwvPsGoRvAINzhi9VmA</td>\n",
       "      <td>1 Anzac Hwy</td>\n",
       "      <td>-34.942418</td>\n",
       "      <td>138.58183</td>\n",
       "      <td>1</td>\n",
       "      <td>5035</td>\n",
       "      <td>OK</td>\n",
       "      <td>street_address</td>\n",
       "      <td>3.151684</td>\n",
       "    </tr>\n",
       "  </tbody>\n",
       "</table>\n",
       "</div>"
      ],
      "text/plain": [
       "      StopName WeekBeginning          type_x  NumberOfBoardings_sum  \\\n",
       "0  1 Anzac Hwy    2013-06-30  street_address                   1003   \n",
       "1  1 Anzac Hwy    2013-07-07  street_address                    783   \n",
       "2  1 Anzac Hwy    2013-07-14  street_address                    843   \n",
       "3  1 Anzac Hwy    2013-07-21  street_address                    710   \n",
       "4  1 Anzac Hwy    2013-07-28  street_address                    898   \n",
       "\n",
       "   NumberOfBoardings_count  NumberOfBoardings_max accuracy  \\\n",
       "0                      378                     51  ROOFTOP   \n",
       "1                      360                     28  ROOFTOP   \n",
       "2                      343                     45  ROOFTOP   \n",
       "3                      356                     28  ROOFTOP   \n",
       "4                      379                     41  ROOFTOP   \n",
       "\n",
       "                         formatted_address              google_place_id  \\\n",
       "0  1 Anzac Hwy, Keswick SA 5035, Australia  ChIJx2AyjwvPsGoRvAINzhi9VmA   \n",
       "1  1 Anzac Hwy, Keswick SA 5035, Australia  ChIJx2AyjwvPsGoRvAINzhi9VmA   \n",
       "2  1 Anzac Hwy, Keswick SA 5035, Australia  ChIJx2AyjwvPsGoRvAINzhi9VmA   \n",
       "3  1 Anzac Hwy, Keswick SA 5035, Australia  ChIJx2AyjwvPsGoRvAINzhi9VmA   \n",
       "4  1 Anzac Hwy, Keswick SA 5035, Australia  ChIJx2AyjwvPsGoRvAINzhi9VmA   \n",
       "\n",
       "  input_string   latitude  longitude  number_of_results postcode status  \\\n",
       "0  1 Anzac Hwy -34.942418  138.58183                  1     5035     OK   \n",
       "1  1 Anzac Hwy -34.942418  138.58183                  1     5035     OK   \n",
       "2  1 Anzac Hwy -34.942418  138.58183                  1     5035     OK   \n",
       "3  1 Anzac Hwy -34.942418  138.58183                  1     5035     OK   \n",
       "4  1 Anzac Hwy -34.942418  138.58183                  1     5035     OK   \n",
       "\n",
       "           type_y  dist_from_centre  \n",
       "0  street_address          3.151684  \n",
       "1  street_address          3.151684  \n",
       "2  street_address          3.151684  \n",
       "3  street_address          3.151684  \n",
       "4  street_address          3.151684  "
      ]
     },
     "execution_count": 51,
     "metadata": {},
     "output_type": "execute_result"
    }
   ],
   "source": [
    "bb1.head()"
   ]
  },
  {
   "cell_type": "code",
   "execution_count": 52,
   "id": "e3b3d085",
   "metadata": {},
   "outputs": [],
   "source": [
    "bb1['holiday_label'] = bb1['WeekBeginning'].apply (lambda row: holiday_label(row))"
   ]
  },
  {
   "cell_type": "code",
   "execution_count": 53,
   "id": "80c64790",
   "metadata": {},
   "outputs": [],
   "source": [
    "##Final 11 features have been used for the forecastng.\n",
    "cols = ['StopName','WeekBeginning','type_x','NumberOfBoardings_sum','NumberOfBoardings_count','NumberOfBoardings_max','latitude','longitude','postcode','dist_from_centre','holiday_label']\n",
    "bb1=bb1[cols]\n"
   ]
  },
  {
   "cell_type": "code",
   "execution_count": 54,
   "id": "2d8c8214",
   "metadata": {},
   "outputs": [
    {
     "data": {
      "text/plain": [
       "(175446, 11)"
      ]
     },
     "execution_count": 54,
     "metadata": {},
     "output_type": "execute_result"
    }
   ],
   "source": [
    "bb1.shape"
   ]
  },
  {
   "cell_type": "code",
   "execution_count": 55,
   "id": "7ba7959a",
   "metadata": {},
   "outputs": [
    {
     "data": {
      "text/plain": [
       "StopName                      0\n",
       "WeekBeginning                 0\n",
       "type_x                        0\n",
       "NumberOfBoardings_sum         0\n",
       "NumberOfBoardings_count       0\n",
       "NumberOfBoardings_max         0\n",
       "latitude                      0\n",
       "longitude                     0\n",
       "postcode                   6318\n",
       "dist_from_centre              0\n",
       "holiday_label                 0\n",
       "dtype: int64"
      ]
     },
     "execution_count": 55,
     "metadata": {},
     "output_type": "execute_result"
    }
   ],
   "source": [
    "bb1.isna().sum()"
   ]
  },
  {
   "cell_type": "code",
   "execution_count": 56,
   "id": "764c3229",
   "metadata": {},
   "outputs": [],
   "source": [
    "##Replace all Nan by Mode\n",
    "for i in bb1.columns:\n",
    "    bb1[i].fillna(bb1[i].mode()[0], inplace=True)\n",
    "bb1[[\"postcode\", \"holiday_label\"]] = bb1[[\"postcode\", \"holiday_label\"]].apply(pd.to_numeric)"
   ]
  },
  {
   "cell_type": "code",
   "execution_count": 57,
   "id": "fc5b5bb0",
   "metadata": {},
   "outputs": [
    {
     "data": {
      "text/plain": [
       "StopName                   0\n",
       "WeekBeginning              0\n",
       "type_x                     0\n",
       "NumberOfBoardings_sum      0\n",
       "NumberOfBoardings_count    0\n",
       "NumberOfBoardings_max      0\n",
       "latitude                   0\n",
       "longitude                  0\n",
       "postcode                   0\n",
       "dist_from_centre           0\n",
       "holiday_label              0\n",
       "dtype: int64"
      ]
     },
     "execution_count": 57,
     "metadata": {},
     "output_type": "execute_result"
    }
   ],
   "source": [
    "bb1.isna().sum()"
   ]
  },
  {
   "cell_type": "markdown",
   "id": "18f73dfc",
   "metadata": {},
   "source": [
    "# model creation"
   ]
  },
  {
   "cell_type": "code",
   "execution_count": 58,
   "id": "0b7d7c86",
   "metadata": {},
   "outputs": [],
   "source": [
    "bb1[\"WeekBeginning\"] = bb1[[\"WeekBeginning\"]].apply(pd.to_datetime)"
   ]
  },
  {
   "cell_type": "code",
   "execution_count": 59,
   "id": "1f33d9a9",
   "metadata": {},
   "outputs": [],
   "source": [
    "from datetime import datetime\n",
    "train = bb1[bb1['WeekBeginning'] < datetime.strptime(\"2014-06-01\",\"%Y-%m-%d\")]\n",
    "test = bb1[bb1['WeekBeginning'] >= datetime.strptime(\"2014-06-01\",\"%Y-%m-%d\")]"
   ]
  },
  {
   "cell_type": "code",
   "execution_count": 60,
   "id": "2046360a",
   "metadata": {},
   "outputs": [
    {
     "name": "stderr",
     "output_type": "stream",
     "text": [
      "C:\\Users\\bhole\\AppData\\Local\\Temp\\ipykernel_8780\\3417846909.py:3: SettingWithCopyWarning: \n",
      "A value is trying to be set on a copy of a slice from a DataFrame.\n",
      "Try using .loc[row_indexer,col_indexer] = value instead\n",
      "\n",
      "See the caveats in the documentation: https://pandas.pydata.org/pandas-docs/stable/user_guide/indexing.html#returning-a-view-versus-a-copy\n",
      "  train['WeekBeginning'] = le.fit_transform(train['WeekBeginning'])\n",
      "C:\\Users\\bhole\\AppData\\Local\\Temp\\ipykernel_8780\\3417846909.py:4: SettingWithCopyWarning: \n",
      "A value is trying to be set on a copy of a slice from a DataFrame.\n",
      "Try using .loc[row_indexer,col_indexer] = value instead\n",
      "\n",
      "See the caveats in the documentation: https://pandas.pydata.org/pandas-docs/stable/user_guide/indexing.html#returning-a-view-versus-a-copy\n",
      "  test['WeekBeginning'] = le.fit_transform(test['WeekBeginning'])\n"
     ]
    }
   ],
   "source": [
    "from sklearn.preprocessing import LabelEncoder\n",
    "le = LabelEncoder()\n",
    "train['WeekBeginning'] = le.fit_transform(train['WeekBeginning'])\n",
    "test['WeekBeginning'] = le.fit_transform(test['WeekBeginning'])"
   ]
  },
  {
   "cell_type": "code",
   "execution_count": 61,
   "id": "ab457a08",
   "metadata": {},
   "outputs": [],
   "source": [
    "tr_col = ['StopName', 'WeekBeginning', 'type_x', 'latitude',\n",
    "       'longitude', 'postcode', 'dist_from_centre', 'holiday_label']"
   ]
  },
  {
   "cell_type": "code",
   "execution_count": 62,
   "id": "06d459b8",
   "metadata": {},
   "outputs": [],
   "source": [
    "x_train = train[tr_col]\n",
    "x_test = test[tr_col]"
   ]
  },
  {
   "cell_type": "code",
   "execution_count": 63,
   "id": "7610fd4c",
   "metadata": {},
   "outputs": [],
   "source": [
    "y_train = train[\"NumberOfBoardings_sum\"]\n",
    "y_test = test[\"NumberOfBoardings_sum\"]"
   ]
  },
  {
   "cell_type": "code",
   "execution_count": 64,
   "id": "5371e623",
   "metadata": {},
   "outputs": [
    {
     "data": {
      "text/plain": [
       "(155952,)"
      ]
     },
     "execution_count": 64,
     "metadata": {},
     "output_type": "execute_result"
    }
   ],
   "source": [
    "y_train.shape"
   ]
  },
  {
   "cell_type": "code",
   "execution_count": 65,
   "id": "e38900e1",
   "metadata": {},
   "outputs": [
    {
     "data": {
      "text/plain": [
       "(19494,)"
      ]
     },
     "execution_count": 65,
     "metadata": {},
     "output_type": "execute_result"
    }
   ],
   "source": [
    "y_test.shape"
   ]
  },
  {
   "cell_type": "code",
   "execution_count": 66,
   "id": "f4ed99fa",
   "metadata": {},
   "outputs": [
    {
     "name": "stderr",
     "output_type": "stream",
     "text": [
      "C:\\Users\\bhole\\AppData\\Local\\Temp\\ipykernel_8780\\832640995.py:3: SettingWithCopyWarning: \n",
      "A value is trying to be set on a copy of a slice from a DataFrame.\n",
      "Try using .loc[row_indexer,col_indexer] = value instead\n",
      "\n",
      "See the caveats in the documentation: https://pandas.pydata.org/pandas-docs/stable/user_guide/indexing.html#returning-a-view-versus-a-copy\n",
      "  train['StopName'] = le.fit_transform(train['StopName'])\n",
      "C:\\Users\\bhole\\AppData\\Local\\Temp\\ipykernel_8780\\832640995.py:4: SettingWithCopyWarning: \n",
      "A value is trying to be set on a copy of a slice from a DataFrame.\n",
      "Try using .loc[row_indexer,col_indexer] = value instead\n",
      "\n",
      "See the caveats in the documentation: https://pandas.pydata.org/pandas-docs/stable/user_guide/indexing.html#returning-a-view-versus-a-copy\n",
      "  train['type_x'] = le.fit_transform(train['type_x'])\n",
      "C:\\Users\\bhole\\AppData\\Local\\Temp\\ipykernel_8780\\832640995.py:6: SettingWithCopyWarning: \n",
      "A value is trying to be set on a copy of a slice from a DataFrame.\n",
      "Try using .loc[row_indexer,col_indexer] = value instead\n",
      "\n",
      "See the caveats in the documentation: https://pandas.pydata.org/pandas-docs/stable/user_guide/indexing.html#returning-a-view-versus-a-copy\n",
      "  test['StopName'] = le.fit_transform(test['StopName'])\n",
      "C:\\Users\\bhole\\AppData\\Local\\Temp\\ipykernel_8780\\832640995.py:7: SettingWithCopyWarning: \n",
      "A value is trying to be set on a copy of a slice from a DataFrame.\n",
      "Try using .loc[row_indexer,col_indexer] = value instead\n",
      "\n",
      "See the caveats in the documentation: https://pandas.pydata.org/pandas-docs/stable/user_guide/indexing.html#returning-a-view-versus-a-copy\n",
      "  test['type_x'] = le.fit_transform(test['type_x'])\n"
     ]
    }
   ],
   "source": [
    "from sklearn.preprocessing import LabelEncoder\n",
    "le = LabelEncoder()\n",
    "train['StopName'] = le.fit_transform(train['StopName'])\n",
    "train['type_x'] = le.fit_transform(train['type_x'])\n",
    "\n",
    "test['StopName'] = le.fit_transform(test['StopName'])\n",
    "test['type_x'] = le.fit_transform(test['type_x'])"
   ]
  },
  {
   "cell_type": "code",
   "execution_count": 67,
   "id": "a7d0d956",
   "metadata": {},
   "outputs": [
    {
     "data": {
      "text/html": [
       "<div>\n",
       "<style scoped>\n",
       "    .dataframe tbody tr th:only-of-type {\n",
       "        vertical-align: middle;\n",
       "    }\n",
       "\n",
       "    .dataframe tbody tr th {\n",
       "        vertical-align: top;\n",
       "    }\n",
       "\n",
       "    .dataframe thead th {\n",
       "        text-align: right;\n",
       "    }\n",
       "</style>\n",
       "<table border=\"1\" class=\"dataframe\">\n",
       "  <thead>\n",
       "    <tr style=\"text-align: right;\">\n",
       "      <th></th>\n",
       "      <th>StopName</th>\n",
       "      <th>WeekBeginning</th>\n",
       "      <th>type_x</th>\n",
       "      <th>NumberOfBoardings_sum</th>\n",
       "      <th>NumberOfBoardings_count</th>\n",
       "      <th>NumberOfBoardings_max</th>\n",
       "      <th>latitude</th>\n",
       "      <th>longitude</th>\n",
       "      <th>postcode</th>\n",
       "      <th>dist_from_centre</th>\n",
       "      <th>holiday_label</th>\n",
       "    </tr>\n",
       "  </thead>\n",
       "  <tbody>\n",
       "    <tr>\n",
       "      <th>0</th>\n",
       "      <td>0</td>\n",
       "      <td>0</td>\n",
       "      <td>7</td>\n",
       "      <td>1003</td>\n",
       "      <td>378</td>\n",
       "      <td>51</td>\n",
       "      <td>-34.942418</td>\n",
       "      <td>138.58183</td>\n",
       "      <td>5035</td>\n",
       "      <td>3.151684</td>\n",
       "      <td>0</td>\n",
       "    </tr>\n",
       "    <tr>\n",
       "      <th>1</th>\n",
       "      <td>0</td>\n",
       "      <td>1</td>\n",
       "      <td>7</td>\n",
       "      <td>783</td>\n",
       "      <td>360</td>\n",
       "      <td>28</td>\n",
       "      <td>-34.942418</td>\n",
       "      <td>138.58183</td>\n",
       "      <td>5035</td>\n",
       "      <td>3.151684</td>\n",
       "      <td>0</td>\n",
       "    </tr>\n",
       "    <tr>\n",
       "      <th>2</th>\n",
       "      <td>0</td>\n",
       "      <td>2</td>\n",
       "      <td>7</td>\n",
       "      <td>843</td>\n",
       "      <td>343</td>\n",
       "      <td>45</td>\n",
       "      <td>-34.942418</td>\n",
       "      <td>138.58183</td>\n",
       "      <td>5035</td>\n",
       "      <td>3.151684</td>\n",
       "      <td>0</td>\n",
       "    </tr>\n",
       "    <tr>\n",
       "      <th>3</th>\n",
       "      <td>0</td>\n",
       "      <td>3</td>\n",
       "      <td>7</td>\n",
       "      <td>710</td>\n",
       "      <td>356</td>\n",
       "      <td>28</td>\n",
       "      <td>-34.942418</td>\n",
       "      <td>138.58183</td>\n",
       "      <td>5035</td>\n",
       "      <td>3.151684</td>\n",
       "      <td>0</td>\n",
       "    </tr>\n",
       "    <tr>\n",
       "      <th>4</th>\n",
       "      <td>0</td>\n",
       "      <td>4</td>\n",
       "      <td>7</td>\n",
       "      <td>898</td>\n",
       "      <td>379</td>\n",
       "      <td>41</td>\n",
       "      <td>-34.942418</td>\n",
       "      <td>138.58183</td>\n",
       "      <td>5035</td>\n",
       "      <td>3.151684</td>\n",
       "      <td>0</td>\n",
       "    </tr>\n",
       "  </tbody>\n",
       "</table>\n",
       "</div>"
      ],
      "text/plain": [
       "   StopName  WeekBeginning  type_x  NumberOfBoardings_sum  \\\n",
       "0         0              0       7                   1003   \n",
       "1         0              1       7                    783   \n",
       "2         0              2       7                    843   \n",
       "3         0              3       7                    710   \n",
       "4         0              4       7                    898   \n",
       "\n",
       "   NumberOfBoardings_count  NumberOfBoardings_max   latitude  longitude  \\\n",
       "0                      378                     51 -34.942418  138.58183   \n",
       "1                      360                     28 -34.942418  138.58183   \n",
       "2                      343                     45 -34.942418  138.58183   \n",
       "3                      356                     28 -34.942418  138.58183   \n",
       "4                      379                     41 -34.942418  138.58183   \n",
       "\n",
       "   postcode  dist_from_centre  holiday_label  \n",
       "0      5035          3.151684              0  \n",
       "1      5035          3.151684              0  \n",
       "2      5035          3.151684              0  \n",
       "3      5035          3.151684              0  \n",
       "4      5035          3.151684              0  "
      ]
     },
     "execution_count": 67,
     "metadata": {},
     "output_type": "execute_result"
    }
   ],
   "source": [
    "train.head()"
   ]
  },
  {
   "cell_type": "code",
   "execution_count": 68,
   "id": "521d3fe4",
   "metadata": {},
   "outputs": [],
   "source": [
    "x_train= train[tr_col]\n",
    "x_test = test[tr_col] "
   ]
  },
  {
   "cell_type": "code",
   "execution_count": 69,
   "id": "e8663b92",
   "metadata": {},
   "outputs": [],
   "source": [
    "from sklearn.preprocessing import MinMaxScaler\n",
    "ms=MinMaxScaler()\n",
    "x_train=ms.fit_transform(x_train)\n",
    "x_test=ms.fit_transform(x_test)"
   ]
  },
  {
   "cell_type": "markdown",
   "id": "d58fe9c8",
   "metadata": {},
   "source": [
    "# Random forest regressor"
   ]
  },
  {
   "cell_type": "code",
   "execution_count": 71,
   "id": "b4cf62a1",
   "metadata": {},
   "outputs": [],
   "source": [
    "from sklearn.ensemble import RandomForestRegressor\n",
    "model = RandomForestRegressor(n_estimators=700, min_samples_leaf=3, max_features=0.5,n_jobs=-1)\n",
    "model.fit(x_train,y_train)\n",
    "preds = model.predict(x_test)"
   ]
  },
  {
   "cell_type": "code",
   "execution_count": 72,
   "id": "9a38a36c",
   "metadata": {},
   "outputs": [
    {
     "data": {
      "text/plain": [
       "array([ 891.01202655,  871.06574655,  786.23747357, ...,  829.89456773,\n",
       "        973.57635744, 1020.11166104])"
      ]
     },
     "execution_count": 72,
     "metadata": {},
     "output_type": "execute_result"
    }
   ],
   "source": [
    "preds"
   ]
  },
  {
   "cell_type": "code",
   "execution_count": 73,
   "id": "420dbc2e",
   "metadata": {},
   "outputs": [],
   "source": [
    "y_test=np.array(y_test)"
   ]
  },
  {
   "cell_type": "code",
   "execution_count": 74,
   "id": "e623a034",
   "metadata": {},
   "outputs": [
    {
     "data": {
      "text/plain": [
       "array([[ 891.01202655,  613.        ],\n",
       "       [ 871.06574655,  590.        ],\n",
       "       [ 786.23747357,  700.        ],\n",
       "       ...,\n",
       "       [ 829.89456773,  896.        ],\n",
       "       [ 973.57635744, 1052.        ],\n",
       "       [1020.11166104,  534.        ]])"
      ]
     },
     "execution_count": 74,
     "metadata": {},
     "output_type": "execute_result"
    }
   ],
   "source": [
    "np.concatenate((preds.reshape(-1,1), y_test.reshape(-1,1)),1)"
   ]
  },
  {
   "cell_type": "code",
   "execution_count": 75,
   "id": "97d8e74b",
   "metadata": {},
   "outputs": [
    {
     "data": {
      "text/plain": [
       "272.45442263303215"
      ]
     },
     "execution_count": 75,
     "metadata": {},
     "output_type": "execute_result"
    }
   ],
   "source": [
    "import sklearn.metrics\n",
    "rms = sqrt(sklearn.metrics.mean_squared_error(y_test, preds))\n",
    "rms"
   ]
  },
  {
   "cell_type": "code",
   "execution_count": 76,
   "id": "1d879ada",
   "metadata": {},
   "outputs": [
    {
     "data": {
      "text/plain": [
       "0.9899321649162875"
      ]
     },
     "execution_count": 76,
     "metadata": {},
     "output_type": "execute_result"
    }
   ],
   "source": [
    "model.score(x_train,y_train)"
   ]
  },
  {
   "cell_type": "markdown",
   "id": "3d3527de",
   "metadata": {},
   "source": [
    "# LGBMRegressor(providing external parameter)"
   ]
  },
  {
   "cell_type": "code",
   "execution_count": 77,
   "id": "60cf6f6a",
   "metadata": {},
   "outputs": [
    {
     "data": {
      "text/plain": [
       "LGBMRegressor(colsample_bytree=0.7761, learning_rate=0.0227, max_depth=10,\n",
       "              n_estimators=195, num_leaves=11, reg_alpha=1.5764,\n",
       "              reg_lambda=0.0478, subsample=0.7776)"
      ]
     },
     "execution_count": 77,
     "metadata": {},
     "output_type": "execute_result"
    }
   ],
   "source": [
    "import lightgbm as lgb\n",
    "model = lgb.LGBMRegressor(max_depth=10,learning_rate=0.0227,n_estimators=195,num_leaves=11,reg_alpha=1.5764,reg_lambda=0.0478,subsample=0.7776,colsample_bytree=0.7761)\n",
    "model.fit(x_train,y_train)"
   ]
  },
  {
   "cell_type": "code",
   "execution_count": 78,
   "id": "73c5dbba",
   "metadata": {},
   "outputs": [],
   "source": [
    "y_pred=model.predict(x_test)"
   ]
  },
  {
   "cell_type": "code",
   "execution_count": 79,
   "id": "2166a917",
   "metadata": {},
   "outputs": [
    {
     "data": {
      "text/plain": [
       "array([[ 264.22778347,  613.        ],\n",
       "       [ 227.36382624,  590.        ],\n",
       "       [ 264.22778347,  700.        ],\n",
       "       ...,\n",
       "       [1121.73452062,  896.        ],\n",
       "       [1121.73452062, 1052.        ],\n",
       "       [1121.73452062,  534.        ]])"
      ]
     },
     "execution_count": 79,
     "metadata": {},
     "output_type": "execute_result"
    }
   ],
   "source": [
    "np.concatenate((y_pred.reshape(-1,1), y_test.reshape(-1,1)),1)"
   ]
  },
  {
   "cell_type": "code",
   "execution_count": 80,
   "id": "c598cc24",
   "metadata": {},
   "outputs": [
    {
     "data": {
      "text/plain": [
       "0.7168803741248257"
      ]
     },
     "execution_count": 80,
     "metadata": {},
     "output_type": "execute_result"
    }
   ],
   "source": [
    "model.score(x_train,y_train)"
   ]
  },
  {
   "cell_type": "code",
   "execution_count": 81,
   "id": "89c3e771",
   "metadata": {},
   "outputs": [
    {
     "data": {
      "text/plain": [
       "272.45442263303215"
      ]
     },
     "execution_count": 81,
     "metadata": {},
     "output_type": "execute_result"
    }
   ],
   "source": [
    "import sklearn.metrics\n",
    "rms = sqrt(sklearn.metrics.mean_squared_error(y_test, preds))\n",
    "rms"
   ]
  },
  {
   "cell_type": "markdown",
   "id": "69db8e3b",
   "metadata": {},
   "source": [
    "# LGBMRegressor"
   ]
  },
  {
   "cell_type": "code",
   "execution_count": 82,
   "id": "631ac1fe",
   "metadata": {},
   "outputs": [
    {
     "data": {
      "text/plain": [
       "LGBMRegressor()"
      ]
     },
     "execution_count": 82,
     "metadata": {},
     "output_type": "execute_result"
    }
   ],
   "source": [
    "import lightgbm as lgb\n",
    "model = lgb.LGBMRegressor()\n",
    "model.fit(x_train,y_train)"
   ]
  },
  {
   "cell_type": "code",
   "execution_count": 83,
   "id": "0b6e9488",
   "metadata": {},
   "outputs": [],
   "source": [
    "y_pred=model.predict(x_test)"
   ]
  },
  {
   "cell_type": "code",
   "execution_count": 84,
   "id": "9f9f39d5",
   "metadata": {},
   "outputs": [
    {
     "data": {
      "text/plain": [
       "array([[ 608.51786589,  613.        ],\n",
       "       [ 563.38679335,  590.        ],\n",
       "       [ 628.5502431 ,  700.        ],\n",
       "       ...,\n",
       "       [ 785.94637614,  896.        ],\n",
       "       [1117.81282878, 1052.        ],\n",
       "       [1117.81282878,  534.        ]])"
      ]
     },
     "execution_count": 84,
     "metadata": {},
     "output_type": "execute_result"
    }
   ],
   "source": [
    "np.concatenate((y_pred.reshape(-1,1), y_test.reshape(-1,1)),1)"
   ]
  },
  {
   "cell_type": "code",
   "execution_count": 85,
   "id": "a8b37e01",
   "metadata": {},
   "outputs": [
    {
     "data": {
      "text/plain": [
       "0.8573627160434282"
      ]
     },
     "execution_count": 85,
     "metadata": {},
     "output_type": "execute_result"
    }
   ],
   "source": [
    "model.score(x_train,y_train)"
   ]
  },
  {
   "cell_type": "code",
   "execution_count": 86,
   "id": "4deae1e4",
   "metadata": {},
   "outputs": [
    {
     "data": {
      "text/plain": [
       "272.45442263303215"
      ]
     },
     "execution_count": 86,
     "metadata": {},
     "output_type": "execute_result"
    }
   ],
   "source": [
    "import sklearn.metrics\n",
    "rms = sqrt(sklearn.metrics.mean_squared_error(y_test, preds))\n",
    "rms"
   ]
  },
  {
   "cell_type": "code",
   "execution_count": null,
   "id": "5b391235",
   "metadata": {},
   "outputs": [],
   "source": []
  }
 ],
 "metadata": {
  "kernelspec": {
   "display_name": "Python 3 (ipykernel)",
   "language": "python",
   "name": "python3"
  },
  "language_info": {
   "codemirror_mode": {
    "name": "ipython",
    "version": 3
   },
   "file_extension": ".py",
   "mimetype": "text/x-python",
   "name": "python",
   "nbconvert_exporter": "python",
   "pygments_lexer": "ipython3",
   "version": "3.9.13"
  }
 },
 "nbformat": 4,
 "nbformat_minor": 5
}
